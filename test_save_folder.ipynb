{
 "cells": [
  {
   "cell_type": "code",
   "execution_count": 1,
   "id": "cd3fbb92",
   "metadata": {
    "_cell_guid": "b1076dfc-b9ad-4769-8c92-a6c4dae69d19",
    "_uuid": "8f2839f25d086af736a60e9eeb907d3b93b6e0e5",
    "execution": {
     "iopub.execute_input": "2023-08-12T19:33:45.540181Z",
     "iopub.status.busy": "2023-08-12T19:33:45.539607Z",
     "iopub.status.idle": "2023-08-12T19:33:45.552807Z",
     "shell.execute_reply": "2023-08-12T19:33:45.551605Z"
    },
    "papermill": {
     "duration": 0.020884,
     "end_time": "2023-08-12T19:33:45.555177",
     "exception": false,
     "start_time": "2023-08-12T19:33:45.534293",
     "status": "completed"
    },
    "tags": []
   },
   "outputs": [],
   "source": [
    "# This Python 3 environment comes with many helpful analytics libraries installed\n",
    "# It is defined by the kaggle/python Docker image: https://github.com/kaggle/docker-python\n",
    "# For example, here's several helpful packages to load\n",
    "\n",
    "import numpy as np # linear algebra\n",
    "import pandas as pd # data processing, CSV file I/O (e.g. pd.read_csv)\n",
    "\n",
    "# Input data files are available in the read-only \"../input/\" directory\n",
    "# For example, running this (by clicking run or pressing Shift+Enter) will list all files under the input directory\n",
    "\n",
    "import os\n",
    "for dirname, _, filenames in os.walk('/kaggle/input'):\n",
    "    for filename in filenames:\n",
    "        print(os.path.join(dirname, filename))\n",
    "\n",
    "# You can write up to 20GB to the current directory (/kaggle/working/) that gets preserved as output when you create a version using \"Save & Run All\" \n",
    "# You can also write temporary files to /kaggle/temp/, but they won't be saved outside of the current session"
   ]
  },
  {
   "cell_type": "code",
   "execution_count": 2,
   "id": "67fb57a8",
   "metadata": {
    "execution": {
     "iopub.execute_input": "2023-08-12T19:33:45.562256Z",
     "iopub.status.busy": "2023-08-12T19:33:45.561914Z",
     "iopub.status.idle": "2023-08-12T19:33:46.520802Z",
     "shell.execute_reply": "2023-08-12T19:33:46.519546Z"
    },
    "papermill": {
     "duration": 0.965175,
     "end_time": "2023-08-12T19:33:46.523235",
     "exception": false,
     "start_time": "2023-08-12T19:33:45.558060",
     "status": "completed"
    },
    "tags": []
   },
   "outputs": [
    {
     "name": "stdout",
     "output_type": "stream",
     "text": [
      "Cloning into 'Social-network-Graph-Link-Prediction'...\r\n",
      "remote: Enumerating objects: 13, done.\u001b[K\r\n",
      "remote: Counting objects: 100% (13/13), done.\u001b[K\r\n",
      "remote: Compressing objects: 100% (12/12), done.\u001b[K\r\n",
      "remote: Total 13 (delta 1), reused 0 (delta 0), pack-reused 0\u001b[K\r\n",
      "Unpacking objects: 100% (13/13), 513.49 KiB | 5.64 MiB/s, done.\r\n"
     ]
    }
   ],
   "source": [
    "!git clone https://github.com/phatpham46/Social-network-Graph-Link-Prediction.git"
   ]
  },
  {
   "cell_type": "code",
   "execution_count": 3,
   "id": "45fc473d",
   "metadata": {
    "execution": {
     "iopub.execute_input": "2023-08-12T19:33:46.531571Z",
     "iopub.status.busy": "2023-08-12T19:33:46.530871Z",
     "iopub.status.idle": "2023-08-12T19:33:46.793468Z",
     "shell.execute_reply": "2023-08-12T19:33:46.791079Z"
    },
    "papermill": {
     "duration": 0.269562,
     "end_time": "2023-08-12T19:33:46.795856",
     "exception": false,
     "start_time": "2023-08-12T19:33:46.526294",
     "status": "completed"
    },
    "tags": []
   },
   "outputs": [
    {
     "name": "stdout",
     "output_type": "stream",
     "text": [
      "Social-network-Graph-Link-Prediction  __notebook__.ipynb\r\n"
     ]
    }
   ],
   "source": [
    "!ls"
   ]
  },
  {
   "cell_type": "code",
   "execution_count": 4,
   "id": "cc36f465",
   "metadata": {
    "execution": {
     "iopub.execute_input": "2023-08-12T19:33:46.804992Z",
     "iopub.status.busy": "2023-08-12T19:33:46.803613Z",
     "iopub.status.idle": "2023-08-12T19:33:47.070358Z",
     "shell.execute_reply": "2023-08-12T19:33:47.068471Z"
    },
    "papermill": {
     "duration": 0.273948,
     "end_time": "2023-08-12T19:33:47.073284",
     "exception": false,
     "start_time": "2023-08-12T19:33:46.799336",
     "status": "completed"
    },
    "tags": []
   },
   "outputs": [
    {
     "name": "stdout",
     "output_type": "stream",
     "text": [
      "/kaggle/working/Social-network-Graph-Link-Prediction\n",
      "FB_EDA.ipynb\t\t FB_featurization.ipynb        README.md\r\n",
      "FB_Models_RF.ipynb\t FB_featurization_part2.ipynb\r\n",
      "FB_Models_XGBoost.ipynb  LICENSE\r\n"
     ]
    }
   ],
   "source": [
    "%cd Social-network-Graph-Link-Prediction\n",
    "!ls"
   ]
  },
  {
   "cell_type": "code",
   "execution_count": 5,
   "id": "c3ec4db2",
   "metadata": {
    "execution": {
     "iopub.execute_input": "2023-08-12T19:33:47.081465Z",
     "iopub.status.busy": "2023-08-12T19:33:47.081119Z",
     "iopub.status.idle": "2023-08-12T19:33:47.343766Z",
     "shell.execute_reply": "2023-08-12T19:33:47.342353Z"
    },
    "papermill": {
     "duration": 0.269785,
     "end_time": "2023-08-12T19:33:47.346315",
     "exception": false,
     "start_time": "2023-08-12T19:33:47.076530",
     "status": "completed"
    },
    "tags": []
   },
   "outputs": [],
   "source": [
    "!git add ."
   ]
  },
  {
   "cell_type": "code",
   "execution_count": 6,
   "id": "74fcb79e",
   "metadata": {
    "execution": {
     "iopub.execute_input": "2023-08-12T19:33:47.354519Z",
     "iopub.status.busy": "2023-08-12T19:33:47.354171Z",
     "iopub.status.idle": "2023-08-12T19:33:47.868174Z",
     "shell.execute_reply": "2023-08-12T19:33:47.866809Z"
    },
    "papermill": {
     "duration": 0.520993,
     "end_time": "2023-08-12T19:33:47.870605",
     "exception": false,
     "start_time": "2023-08-12T19:33:47.349612",
     "status": "completed"
    },
    "tags": []
   },
   "outputs": [],
   "source": [
    "!git config --global user.email \"phatpham0406202@gmail.com\"\n",
    "!git config --global user.name \"phatpham46\""
   ]
  },
  {
   "cell_type": "code",
   "execution_count": 7,
   "id": "6819c7d6",
   "metadata": {
    "execution": {
     "iopub.execute_input": "2023-08-12T19:33:47.878645Z",
     "iopub.status.busy": "2023-08-12T19:33:47.878217Z",
     "iopub.status.idle": "2023-08-12T19:33:48.393621Z",
     "shell.execute_reply": "2023-08-12T19:33:48.392478Z"
    },
    "papermill": {
     "duration": 0.522301,
     "end_time": "2023-08-12T19:33:48.396136",
     "exception": false,
     "start_time": "2023-08-12T19:33:47.873835",
     "status": "completed"
    },
    "tags": []
   },
   "outputs": [
    {
     "name": "stdout",
     "output_type": "stream",
     "text": [
      "On branch main\r\n",
      "Your branch is up to date with 'origin/main'.\r\n",
      "\r\n",
      "nothing to commit, working tree clean\r\n",
      "error: unknown switch `m'\r\n",
      "usage: git push [<options>] [<repository> [<refspec>...]]\r\n",
      "\r\n",
      "    -v, --verbose         be more verbose\r\n",
      "    -q, --quiet           be more quiet\r\n",
      "    --repo <repository>   repository\r\n",
      "    --all                 push all refs\r\n",
      "    --mirror              mirror all refs\r\n",
      "    -d, --delete          delete refs\r\n",
      "    --tags                push tags (can't be used with --all or --mirror)\r\n",
      "    -n, --dry-run         dry run\r\n",
      "    --porcelain           machine-readable output\r\n",
      "    -f, --force           force updates\r\n",
      "    --force-with-lease[=<refname>:<expect>]\r\n",
      "                          require old value of ref to be at this value\r\n",
      "    --recurse-submodules[=(check|on-demand|no)]\r\n",
      "                          control recursive pushing of submodules\r\n",
      "    --thin                use thin pack\r\n",
      "    --receive-pack <receive-pack>\r\n",
      "                          receive pack program\r\n",
      "    --exec <receive-pack>\r\n",
      "                          receive pack program\r\n",
      "    -u, --set-upstream    set upstream for git pull/status\r\n",
      "    --progress            force progress reporting\r\n",
      "    --prune               prune locally removed refs\r\n",
      "    --no-verify           bypass pre-push hook\r\n",
      "    --follow-tags         push missing but relevant tags\r\n",
      "    --signed[=(yes|no|if-asked)]\r\n",
      "                          GPG sign the push\r\n",
      "    --atomic              request atomic transaction on remote side\r\n",
      "    -o, --push-option <server-specific>\r\n",
      "                          option to transmit\r\n",
      "    -4, --ipv4            use IPv4 addresses only\r\n",
      "    -6, --ipv6            use IPv6 addresses only\r\n",
      "\r\n"
     ]
    }
   ],
   "source": [
    "!git commit -m \"test\"\n",
    "!git push origin -m "
   ]
  },
  {
   "cell_type": "code",
   "execution_count": 8,
   "id": "3e698963",
   "metadata": {
    "execution": {
     "iopub.execute_input": "2023-08-12T19:33:48.405802Z",
     "iopub.status.busy": "2023-08-12T19:33:48.405211Z",
     "iopub.status.idle": "2023-08-12T19:33:48.410757Z",
     "shell.execute_reply": "2023-08-12T19:33:48.409259Z"
    },
    "papermill": {
     "duration": 0.013046,
     "end_time": "2023-08-12T19:33:48.413055",
     "exception": false,
     "start_time": "2023-08-12T19:33:48.400009",
     "status": "completed"
    },
    "tags": []
   },
   "outputs": [],
   "source": [
    "from pathlib import Path\n",
    "Path('/kaggle/working/outputs').mkdir(parents=True, exist_ok=True)"
   ]
  },
  {
   "cell_type": "code",
   "execution_count": null,
   "id": "251afcdb",
   "metadata": {
    "papermill": {
     "duration": 0.002939,
     "end_time": "2023-08-12T19:33:48.419450",
     "exception": false,
     "start_time": "2023-08-12T19:33:48.416511",
     "status": "completed"
    },
    "tags": []
   },
   "outputs": [],
   "source": []
  }
 ],
 "metadata": {
  "kernelspec": {
   "display_name": "Python 3",
   "language": "python",
   "name": "python3"
  },
  "language_info": {
   "codemirror_mode": {
    "name": "ipython",
    "version": 3
   },
   "file_extension": ".py",
   "mimetype": "text/x-python",
   "name": "python",
   "nbconvert_exporter": "python",
   "pygments_lexer": "ipython3",
   "version": "3.10.12"
  },
  "papermill": {
   "default_parameters": {},
   "duration": 14.412949,
   "end_time": "2023-08-12T19:33:51.252777",
   "environment_variables": {},
   "exception": null,
   "input_path": "__notebook__.ipynb",
   "output_path": "__notebook__.ipynb",
   "parameters": {},
   "start_time": "2023-08-12T19:33:36.839828",
   "version": "2.4.0"
  }
 },
 "nbformat": 4,
 "nbformat_minor": 5
}
